{
 "cells": [
  {
   "cell_type": "code",
   "execution_count": null,
   "id": "2cd69741",
   "metadata": {},
   "outputs": [],
   "source": [
    "# Git is a version control system\n",
    "\n",
    "# Why do we need git?\n",
    "=> It is used for version controlling\n",
    "=> It is used in team collaboration\n",
    "\n",
    "# Where do we store our code?\n",
    "=> In github / gitlab / bitbucket\n",
    "=> Github / gitlab / bitbucket understands the git language\n",
    "=> Github and gitlab are the cloud based software solution (web-application) running in the web, which understands\n",
    "the git terminologies and makes team collaboration easier.\n",
    "\n",
    "Q. Why not google drive? onedrive?\n",
    "=> Google drive / onedrive doen't understand the git language (commits, branches,\n",
    "staging area and so on)\n",
    "=> Team collaboration is also not so helpful in cloud based drives"
   ]
  },
  {
   "cell_type": "code",
   "execution_count": null,
   "id": "6cd69fb9",
   "metadata": {},
   "outputs": [],
   "source": []
  }
 ],
 "metadata": {
  "kernelspec": {
   "display_name": "Python 3 (ipykernel)",
   "language": "python",
   "name": "python3"
  },
  "language_info": {
   "codemirror_mode": {
    "name": "ipython",
    "version": 3
   },
   "file_extension": ".py",
   "mimetype": "text/x-python",
   "name": "python",
   "nbconvert_exporter": "python",
   "pygments_lexer": "ipython3",
   "version": "3.11.5"
  }
 },
 "nbformat": 4,
 "nbformat_minor": 5
}
